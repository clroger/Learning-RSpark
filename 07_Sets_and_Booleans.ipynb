{
  "nbformat": 4,
  "nbformat_minor": 0,
  "metadata": {
    "colab": {
      "name": "07-Sets and Booleans.ipynb",
      "version": "0.3.2",
      "provenance": [],
      "include_colab_link": true
    },
    "kernelspec": {
      "display_name": "Python 3",
      "language": "python",
      "name": "python3"
    }
  },
  "cells": [
    {
      "cell_type": "markdown",
      "metadata": {
        "id": "view-in-github",
        "colab_type": "text"
      },
      "source": [
        "<a href=\"https://colab.research.google.com/github/clroger/Learning-RSpark/blob/master/07_Sets_and_Booleans.ipynb\" target=\"_parent\"><img src=\"https://colab.research.google.com/assets/colab-badge.svg\" alt=\"Open In Colab\"/></a>"
      ]
    },
    {
      "metadata": {
        "id": "foQXzDFz2ZfY",
        "colab_type": "text"
      },
      "cell_type": "markdown",
      "source": [
        "# Set and Booleans\n",
        "\n",
        "There are two other object types in Python that we should quickly cover: Sets and Booleans. \n",
        "\n",
        "## Sets\n",
        "\n",
        "Sets are an unordered collection of *unique* elements. We can construct them by using the set() function. Let's go ahead and make a set to see how it works"
      ]
    },
    {
      "metadata": {
        "id": "gyIXNpVg2Zfa",
        "colab_type": "code",
        "outputId": "cbfc1a9d-340a-49b5-c5f2-90716c0c3139",
        "colab": {
          "base_uri": "https://localhost:8080/",
          "height": 34
        }
      },
      "cell_type": "code",
      "source": [
        "x = {1,2,3,4,4,35}\n",
        "x"
      ],
      "execution_count": 0,
      "outputs": [
        {
          "output_type": "execute_result",
          "data": {
            "text/plain": [
              "{1, 2, 3, 4, 35}"
            ]
          },
          "metadata": {
            "tags": []
          },
          "execution_count": 1
        }
      ]
    },
    {
      "metadata": {
        "id": "XHQxYddz2Zfe",
        "colab_type": "code",
        "colab": {}
      },
      "cell_type": "code",
      "source": [
        "# We add to sets with the add() method\n",
        "x.add(1)"
      ],
      "execution_count": 0,
      "outputs": []
    },
    {
      "metadata": {
        "id": "gn0Wr_UQ2Zfg",
        "colab_type": "code",
        "outputId": "38b68eae-59fd-4a31-9212-1dbefde6fc8a",
        "colab": {
          "base_uri": "https://localhost:8080/",
          "height": 34
        }
      },
      "cell_type": "code",
      "source": [
        "#Show\n",
        "x"
      ],
      "execution_count": 0,
      "outputs": [
        {
          "output_type": "execute_result",
          "data": {
            "text/plain": [
              "{1, 2, 3, 4, 35}"
            ]
          },
          "metadata": {
            "tags": []
          },
          "execution_count": 3
        }
      ]
    },
    {
      "metadata": {
        "id": "ba1FxLHZ2Zfk",
        "colab_type": "text"
      },
      "cell_type": "markdown",
      "source": [
        "Note the curly brackets. This does not indicate a dictionary! Although you can draw analogies as a set being a dictionary with only keys.\n",
        "\n",
        "We know that a set has only unique entries. So what happens when we try to add something that is already in a set?"
      ]
    },
    {
      "metadata": {
        "id": "g-9IR2AO2Zfm",
        "colab_type": "code",
        "colab": {}
      },
      "cell_type": "code",
      "source": [
        "# Add a different element\n",
        "x.add(2)"
      ],
      "execution_count": 0,
      "outputs": []
    },
    {
      "metadata": {
        "id": "Z4JMcW7S2Zfn",
        "colab_type": "code",
        "outputId": "1c90491a-fb51-409e-e2ab-1813aa5c1143",
        "colab": {
          "base_uri": "https://localhost:8080/",
          "height": 35
        }
      },
      "cell_type": "code",
      "source": [
        "#Show\n",
        "x\n"
      ],
      "execution_count": 0,
      "outputs": [
        {
          "output_type": "execute_result",
          "data": {
            "text/plain": [
              "{1, 2}"
            ]
          },
          "metadata": {
            "tags": []
          },
          "execution_count": 7
        }
      ]
    },
    {
      "metadata": {
        "id": "JY_wGF092Zfr",
        "colab_type": "code",
        "colab": {}
      },
      "cell_type": "code",
      "source": [
        "# Try to add the same element\n",
        "x.add(1)"
      ],
      "execution_count": 0,
      "outputs": []
    },
    {
      "metadata": {
        "id": "Vb90xJfu2Zft",
        "colab_type": "code",
        "outputId": "8456bf50-8ae3-4625-f951-04d4683a94a5",
        "colab": {
          "base_uri": "https://localhost:8080/",
          "height": 35
        }
      },
      "cell_type": "code",
      "source": [
        "#Show\n",
        "x"
      ],
      "execution_count": 0,
      "outputs": [
        {
          "output_type": "execute_result",
          "data": {
            "text/plain": [
              "{1, 2}"
            ]
          },
          "metadata": {
            "tags": []
          },
          "execution_count": 9
        }
      ]
    },
    {
      "metadata": {
        "id": "ex9zVpjb2Zfy",
        "colab_type": "text"
      },
      "cell_type": "markdown",
      "source": [
        "Notice how it won't place another 1 there. That's because a set is only concerned with unique elements! We can cast a list with multiple repeat elements to a set to get the unique elements. For example:"
      ]
    },
    {
      "metadata": {
        "id": "tmP2oGoa2Zfz",
        "colab_type": "code",
        "colab": {}
      },
      "cell_type": "code",
      "source": [
        "# Create a list with repeats\n",
        "list1 = [1,1,2,2,3,4,5,6,1,1]"
      ],
      "execution_count": 0,
      "outputs": []
    },
    {
      "metadata": {
        "id": "i0H7uLMh2Zf2",
        "colab_type": "code",
        "outputId": "b9c8baba-0062-4877-e973-e4a098d8da99",
        "colab": {
          "base_uri": "https://localhost:8080/",
          "height": 35
        }
      },
      "cell_type": "code",
      "source": [
        "# Cast as set to get unique values\n",
        "list(set(list1))"
      ],
      "execution_count": 0,
      "outputs": [
        {
          "output_type": "execute_result",
          "data": {
            "text/plain": [
              "[1, 2, 3, 4, 5, 6]"
            ]
          },
          "metadata": {
            "tags": []
          },
          "execution_count": 12
        }
      ]
    },
    {
      "metadata": {
        "id": "C1G4oFPyLrr4",
        "colab_type": "code",
        "colab": {}
      },
      "cell_type": "code",
      "source": [
        "A = {'a','b','c'}"
      ],
      "execution_count": 0,
      "outputs": []
    },
    {
      "metadata": {
        "id": "tdEVHIgtLxmn",
        "colab_type": "code",
        "colab": {}
      },
      "cell_type": "code",
      "source": [
        "B = {'e','f','g', 'c'}"
      ],
      "execution_count": 0,
      "outputs": []
    },
    {
      "metadata": {
        "id": "9yf2gmsIL15Y",
        "colab_type": "code",
        "outputId": "64a84c68-6a09-44f8-c6c4-b64c61fb6dc7",
        "colab": {
          "base_uri": "https://localhost:8080/",
          "height": 35
        }
      },
      "cell_type": "code",
      "source": [
        "A.union(B)"
      ],
      "execution_count": 0,
      "outputs": [
        {
          "output_type": "execute_result",
          "data": {
            "text/plain": [
              "{'a', 'b', 'c', 'e', 'f', 'g'}"
            ]
          },
          "metadata": {
            "tags": []
          },
          "execution_count": 28
        }
      ]
    },
    {
      "metadata": {
        "id": "ZcwsiuMJMoMv",
        "colab_type": "code",
        "outputId": "899ded4c-83ba-40ca-ef7f-3bc1cca1f95f",
        "colab": {
          "base_uri": "https://localhost:8080/",
          "height": 69
        }
      },
      "cell_type": "code",
      "source": [
        "for i in A:\n",
        "  print(i)"
      ],
      "execution_count": 0,
      "outputs": [
        {
          "output_type": "stream",
          "text": [
            "c\n",
            "b\n",
            "a\n"
          ],
          "name": "stdout"
        }
      ]
    },
    {
      "metadata": {
        "id": "GQLYV4_FMV8k",
        "colab_type": "code",
        "outputId": "b59cc258-5609-4265-d2bb-18a2260c1f7f",
        "colab": {
          "base_uri": "https://localhost:8080/",
          "height": 35
        }
      },
      "cell_type": "code",
      "source": [
        "A.intersection(B)"
      ],
      "execution_count": 0,
      "outputs": [
        {
          "output_type": "execute_result",
          "data": {
            "text/plain": [
              "{'c'}"
            ]
          },
          "metadata": {
            "tags": []
          },
          "execution_count": 30
        }
      ]
    },
    {
      "metadata": {
        "id": "u15scZnu2Zf5",
        "colab_type": "text"
      },
      "cell_type": "markdown",
      "source": [
        "## Booleans\n",
        "\n",
        "Python  comes with Booleans (with predefined True and False displays that are basically just the integers 1 and 0). It also has a placeholder object called None. Let's walk through a few quick examples of Booleans (we will dive deeper into them later in this course)."
      ]
    },
    {
      "metadata": {
        "id": "4XJS1_rq2Zf6",
        "colab_type": "code",
        "colab": {}
      },
      "cell_type": "code",
      "source": [
        "# Set object to be a boolean\n",
        "a = True"
      ],
      "execution_count": 0,
      "outputs": []
    },
    {
      "metadata": {
        "id": "i9ckxSyX2Zf8",
        "colab_type": "code",
        "outputId": "8e3ef185-e9de-4ecb-ec4b-92de62821f7d",
        "colab": {
          "base_uri": "https://localhost:8080/",
          "height": 35
        }
      },
      "cell_type": "code",
      "source": [
        "#Show\n",
        "a"
      ],
      "execution_count": 0,
      "outputs": [
        {
          "output_type": "execute_result",
          "data": {
            "text/plain": [
              "True"
            ]
          },
          "metadata": {
            "tags": []
          },
          "execution_count": 14
        }
      ]
    },
    {
      "metadata": {
        "id": "EO1_idng2Zf-",
        "colab_type": "text"
      },
      "cell_type": "markdown",
      "source": [
        "We can also use comparison operators to create booleans. We will go over all the comparison operators later on in the course."
      ]
    },
    {
      "metadata": {
        "id": "hWHoc3Hs2Zf_",
        "colab_type": "code",
        "outputId": "ff76f77f-e593-46ff-ce38-7aa137fcc013",
        "colab": {
          "base_uri": "https://localhost:8080/",
          "height": 35
        }
      },
      "cell_type": "code",
      "source": [
        "# Output is boolean\n",
        "1 > 2"
      ],
      "execution_count": 0,
      "outputs": [
        {
          "output_type": "execute_result",
          "data": {
            "text/plain": [
              "False"
            ]
          },
          "metadata": {
            "tags": []
          },
          "execution_count": 15
        }
      ]
    },
    {
      "metadata": {
        "id": "hpkoCjC_2ZgD",
        "colab_type": "text"
      },
      "cell_type": "markdown",
      "source": [
        "We can use None as a placeholder for an object that we don't want to reassign yet:"
      ]
    },
    {
      "metadata": {
        "id": "4_jSfjKY2ZgE",
        "colab_type": "code",
        "colab": {}
      },
      "cell_type": "code",
      "source": [
        "# None placeholder\n",
        "b = None"
      ],
      "execution_count": 0,
      "outputs": []
    },
    {
      "metadata": {
        "id": "NKOQAQvuLiO1",
        "colab_type": "code",
        "outputId": "fa9eccc7-6fad-4726-e132-ba6177429f12",
        "colab": {
          "base_uri": "https://localhost:8080/",
          "height": 35
        }
      },
      "cell_type": "code",
      "source": [
        "type(b)"
      ],
      "execution_count": 0,
      "outputs": [
        {
          "output_type": "execute_result",
          "data": {
            "text/plain": [
              "NoneType"
            ]
          },
          "metadata": {
            "tags": []
          },
          "execution_count": 17
        }
      ]
    },
    {
      "metadata": {
        "id": "L8-XJ3SR2ZgF",
        "colab_type": "code",
        "outputId": "4ee7a799-2494-4ddb-810b-1d94ad7c2d2f",
        "colab": {
          "base_uri": "https://localhost:8080/",
          "height": 35
        }
      },
      "cell_type": "code",
      "source": [
        "# Show\n",
        "print(b)"
      ],
      "execution_count": 0,
      "outputs": [
        {
          "output_type": "stream",
          "text": [
            "None\n"
          ],
          "name": "stdout"
        }
      ]
    },
    {
      "metadata": {
        "id": "2X7eaPPu2ZgI",
        "colab_type": "text"
      },
      "cell_type": "markdown",
      "source": [
        "Thats it! You should now have a basic understanding of Python objects and data structure types. Next, go ahead and do the assessment test!"
      ]
    }
  ]
}